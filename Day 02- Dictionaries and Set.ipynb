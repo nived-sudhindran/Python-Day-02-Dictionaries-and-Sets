{
 "cells": [
  {
   "cell_type": "markdown",
   "id": "d9e2bc08-1b70-4fd8-86e2-f9d6e5571eea",
   "metadata": {},
   "source": [
    "### create a dictionary that stores student names and scores. Write functions to: \n",
    "##### Add a student and their score.\n",
    "##### Find the student with the highest score.\n"
   ]
  },
  {
   "cell_type": "code",
   "execution_count": 32,
   "id": "ae7c6a05-87f9-488f-8744-d162b3ce9aa7",
   "metadata": {},
   "outputs": [
    {
     "name": "stdin",
     "output_type": "stream",
     "text": [
      "Enter Name ARUN\n",
      "Enter Marks 500\n",
      "Enter Name MITHUN\n",
      "Enter Marks 600\n",
      "Enter Name AJAY\n",
      "Enter Marks 550\n"
     ]
    },
    {
     "name": "stdout",
     "output_type": "stream",
     "text": [
      "Highest Marks is obtained by :  MITHUN\n",
      "Marks :  600\n"
     ]
    }
   ],
   "source": [
    "def add(name,score):\n",
    "    Student_details[name]=score\n",
    "\n",
    "def get_highest_score():\n",
    "    student_name=max(Student_details, key=Student_details.get)\n",
    "    print(\"Highest Marks is obtained by : \",student_name)\n",
    "    print(\"Marks : \",Student_details[student_name])\n",
    "\n",
    "Student_details={}\n",
    "add(input(\"Enter Name\"),input(\"Enter Marks\"))\n",
    "add(input(\"Enter Name\"),input(\"Enter Marks\"))\n",
    "add(input(\"Enter Name\"),input(\"Enter Marks\"))\n",
    "Student_details\n",
    "get_highest_score()"
   ]
  },
  {
   "cell_type": "code",
   "execution_count": null,
   "id": "2a700aec-7937-430c-869a-8c4fed214894",
   "metadata": {},
   "outputs": [],
   "source": []
  },
  {
   "cell_type": "code",
   "execution_count": null,
   "id": "5565b4ff-a099-4743-abbc-69b5d96b4fd3",
   "metadata": {},
   "outputs": [],
   "source": [
    "\n",
    "\n",
    "\n",
    "\n"
   ]
  },
  {
   "cell_type": "markdown",
   "id": "96861efe-0a69-4fd8-981f-03ece0f65912",
   "metadata": {},
   "source": [
    "### Remove duplicates from a list using a set."
   ]
  },
  {
   "cell_type": "code",
   "execution_count": 34,
   "id": "f4266d37-1f5d-4411-93ec-5777ccec7f00",
   "metadata": {},
   "outputs": [
    {
     "name": "stdout",
     "output_type": "stream",
     "text": [
      "[10, 20, 30, 30, 20, 50, 100]\n",
      "{100, 10, 50, 20, 30}\n"
     ]
    }
   ],
   "source": [
    "def remove_duplicate():\n",
    "    print(set(list(my_list)))\n",
    "\n",
    "my_list=[10,20,30,30,20,50,100]\n",
    "print(my_list)\n",
    "remove_duplicate()\n"
   ]
  },
  {
   "cell_type": "code",
   "execution_count": null,
   "id": "eda45e2d-4cf2-4097-a46b-bb60dc4f3fcd",
   "metadata": {},
   "outputs": [],
   "source": [
    "\n",
    "\n",
    "\n",
    "\n",
    "\n"
   ]
  }
 ],
 "metadata": {
  "kernelspec": {
   "display_name": "Python 3 (ipykernel)",
   "language": "python",
   "name": "python3"
  },
  "language_info": {
   "codemirror_mode": {
    "name": "ipython",
    "version": 3
   },
   "file_extension": ".py",
   "mimetype": "text/x-python",
   "name": "python",
   "nbconvert_exporter": "python",
   "pygments_lexer": "ipython3",
   "version": "3.12.7"
  }
 },
 "nbformat": 4,
 "nbformat_minor": 5
}
